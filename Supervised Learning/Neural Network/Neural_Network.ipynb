{
  "nbformat": 4,
  "nbformat_minor": 0,
  "metadata": {
    "colab": {
      "provenance": []
    },
    "kernelspec": {
      "name": "python3",
      "display_name": "Python 3"
    },
    "language_info": {
      "name": "python"
    }
  },
  "cells": [
    {
      "cell_type": "markdown",
      "source": [
        "# Multilayer Neural Network\n",
        "\n",
        "**Introduction**\n",
        "\n",
        "Multilayer Neural Networks, specifically Multi-Layer Perceptrons (MLPs), are a class of artificial neural networks designed to address complex nonlinear relationships in data. They consist of multiple layers of interconnected neurons or units, comprising an input layer, one or more hidden layers, and an output layer. Each neuron in one layer is connected to every neuron in the subsequent layer, allowing for sophisticated information processing.\n",
        "\n",
        "**Algorithm**\n",
        "\n",
        "- Forward Propagation: Input data is passed through the network layer by layer, with each neuron applying a weighted sum of inputs followed by an activation function to produce an output.\n",
        "- Backward Propagation (Training): Error is calculated between the predicted output and actual output, and this error is propagated backward through the network. The weights are adjusted using optimization techniques like gradient descent to minimize this error, updating the model for better performance.\n",
        "- Activation Functions: Neurons often use nonlinear activation functions (e.g., ReLU, Sigmoid, Tanh) to introduce nonlinearities, allowing the network to learn complex patterns.\n",
        "\n",
        "**Advantages**\n",
        "\n",
        "- Nonlinearity: Ability to learn and model complex nonlinear relationships in data.\n",
        "- Adaptability: Suitable for a wide range of problems, including regression, classification, and pattern recognition.\n",
        "- Feature Learning: Can automatically extract and learn features from raw data.\n",
        "- Generalization: Can generalize well to new, unseen data when properly trained.\n",
        "\n",
        "**Disadvantages**\n",
        "\n",
        "- Complexity: Training and tuning can be computationally expensive, especially for large datasets and deep architectures.\n",
        "- Overfitting: Susceptible to overfitting, especially with insufficient data or overly complex architectures.\n",
        "- Hyperparameter Sensitivity: The performance of an MLP can be sensitive to the choice of hyperparameters.\n",
        "- Interpretability: Interpretability of the learned features and decision-making process can be challenging, especially in deep architectures.\n",
        "\n",
        "Multilayer Neural Networks have been instrumental in various fields, including image and speech recognition, natural language processing, and finance, owing to their ability to handle complex data relationships and learn intricate patterns."
      ],
      "metadata": {
        "id": "w1fmM7byH4_h"
      }
    },
    {
      "cell_type": "code",
      "execution_count": 1,
      "metadata": {
        "id": "aDNkIEocHBu7"
      },
      "outputs": [],
      "source": [
        "# Import necessary libraries\n",
        "import matplotlib.pyplot as plt\n",
        "import pandas as pd\n",
        "import numpy as np\n",
        "from sklearn import datasets\n",
        "from sklearn.model_selection import train_test_split\n",
        "from keras.datasets import fashion_mnist  # Importing the Fashion MNIST dataset from Keras\n",
        "from sklearn.metrics import accuracy_score\n",
        "from sklearn import metrics\n",
        "from sklearn.preprocessing import StandardScaler\n",
        "import seaborn as sns  # Seaborn for data visualization\n"
      ]
    },
    {
      "cell_type": "code",
      "source": [
        "class MultilayerPerceptron():\n",
        "\n",
        "    def __init__(self, layers = [784, 60, 60, 10], actFun_type='relu'):\n",
        "        self.actFun_type = actFun_type\n",
        "        self.layers = layers\n",
        "        self.L = len(self.layers)\n",
        "        self.W =[[0.0]]\n",
        "        self.B = [[0.0]]\n",
        "        for i in range(1, self.L):\n",
        "            w_temp = np.random.randn(self.layers[i], self.layers[i-1]) * np.sqrt(2/self.layers[i-1])\n",
        "            b_temp = np.random.randn(self.layers[i], 1) * np.sqrt(2/self.layers[i-1])\n",
        "\n",
        "            self.W.append(w_temp)\n",
        "            self.B.append(b_temp)\n",
        "\n",
        "    def reset_weights(self, layers = [784, 60, 60, 10]):\n",
        "        self.layers = layers\n",
        "        self.L = len(self.layers)\n",
        "        self.W = [[0.0]]\n",
        "        self.B = [[0.0]]\n",
        "        for i in range(1, self.L):\n",
        "            w_temp = np.random.randn(self.layers[i], self.layers[i-1])*np.sqrt(2/self.layers[i-1])\n",
        "            b_temp = np.random.randn(self.layers[i], 1)*np.sqrt(2/self.layers[i-1])\n",
        "\n",
        "            self.W.append(w_temp)\n",
        "            self.B.append(b_temp)\n",
        "\n",
        "    def forward_pass(self, p, predict_vector = False):\n",
        "        Z =[[0.0]]\n",
        "        A = [p[0]]\n",
        "        for i in range(1, self.L):\n",
        "            z = (self.W[i] @ A[i-1]) + self.B[i]\n",
        "            a = self.actFun(z, self.actFun_type)\n",
        "            Z.append(z)\n",
        "            A.append(a)\n",
        "\n",
        "        if predict_vector == True:\n",
        "            return A[-1]\n",
        "        else:\n",
        "            return Z, A\n",
        "\n",
        "    def mse(self, a, y):\n",
        "        return .5*sum((a[i]-y[i])**2 for i in range(10))[0]\n",
        "\n",
        "    def MSE(self, data):\n",
        "        c = 0.0\n",
        "        for p in data:\n",
        "            a = self.forward_pass(p, predict_vector=True)\n",
        "            c += self.mse(a, p[1])\n",
        "        return c/len(data)\n",
        "\n",
        "    def actFun(self, z, type):\n",
        "        if type == 'tanh':\n",
        "            return np.tanh(z)\n",
        "        elif type == 'sigmoid':\n",
        "            return 1.0 / (1.0 + np.exp(-z))\n",
        "        elif type == 'relu':\n",
        "            return np.maximum(0, z)\n",
        "        else:\n",
        "            return None\n",
        "\n",
        "    def diff_actFun(self, z, type):\n",
        "        if type == 'tanh':\n",
        "            return 1.0 - (np.tanh(z))**2\n",
        "        elif type == 'sigmoid':\n",
        "            return self.actFun(z, type) * (1-self.actFun(z, type))\n",
        "        elif type == 'relu':\n",
        "            return np.where(z > 0, 1.0, 0)\n",
        "        else:\n",
        "            return None\n",
        "\n",
        "    def deltas_dict(self, p):\n",
        "        Z, A = self.forward_pass(p)\n",
        "        deltas = dict()\n",
        "        deltas[self.L-1] = (A[-1] - p[1])*self.diff_actFun(Z[-1], self.actFun_type)\n",
        "        for l in range(self.L-2, 0, -1):\n",
        "            deltas[l] = (self.W[l+1].T @ deltas[l+1]) *self.diff_actFun(Z[l], self.actFun_type)\n",
        "\n",
        "        return A, deltas\n",
        "\n",
        "    def stochastic_gradient_descent(self, data, alpha = 0.04, epochs = 3):\n",
        "        print(f\"Initial Cost = {self.MSE(data)}\")\n",
        "        for k in range(epochs):\n",
        "            for p in data:\n",
        "                A, deltas = self.deltas_dict(p)\n",
        "                for i in range(1, self.L):\n",
        "                    self.W[i] = self.W[i] - alpha*deltas[i]@A[i-1].T\n",
        "                    self.B[i] = self.B[i] - alpha*deltas[i]\n",
        "        print(f\"{k} Cost = {self.MSE(data)}\")\n",
        "\n",
        "\n",
        "    def mini_batch_gradient_descent(self, data, batch_size = 15, alpha = 0.04, epochs = 3):\n",
        "        print(f\"Initial Cost = {self.MSE(data)}\")\n",
        "        data_length = len(data)\n",
        "        for k in range(epochs):\n",
        "            for j in range(0, data_length-batch_size, batch_size):\n",
        "                delta_list = []\n",
        "                A_list = []\n",
        "                for p in data[j:j+batch_size]:\n",
        "                    A, deltas = self.deltas_dict(p)\n",
        "                    delta_list.append(deltas)\n",
        "                    A_list.append(A)\n",
        "\n",
        "                for i in range(1, self.L):\n",
        "                    self.W[i] = self.W[i] - (alpha/batch_size)*sum(da[0][i]@da[1][i-1].T for da in zip(delta_list, A_list))\n",
        "                    self.B[i] = self.B[i] - (alpha/batch_size)*sum(deltas[i] for deltas in delta_list)\n",
        "            print(f\"{k} Cost = {self.MSE(data)}\")\n"
      ],
      "metadata": {
        "id": "E7fapzxlIzl1"
      },
      "execution_count": 10,
      "outputs": []
    },
    {
      "cell_type": "markdown",
      "source": [
        "The Fashion MNIST dataset, sourced from Keras, comprises 60,000 training images and 10,000 test images, all in grayscale with dimensions of 28x28 pixels. This dataset categorizes images into 10 classes, each representing various fashion items. Pixel intensities range from 0 to 255, with 0 denoting black and 255 denoting white. The classes are: T-shirt/top, Trouser, Pullover, Dress, Coat, Sandal, Shirt, Sneaker, Bag, and Ankle boot, corresponding to labels 0 through 9, respectively."
      ],
      "metadata": {
        "id": "4BXrWQYpMbDr"
      }
    },
    {
      "cell_type": "code",
      "source": [
        "# Load the Fashion MNIST dataset\n",
        "(train_X, train_y), (test_X, test_y) = fashion_mnist.load_data()\n"
      ],
      "metadata": {
        "colab": {
          "base_uri": "https://localhost:8080/"
        },
        "id": "7_Fl0TquMKJ_",
        "outputId": "fc7cc4a7-f0e3-405b-eb6f-1497ef9efb38"
      },
      "execution_count": 3,
      "outputs": [
        {
          "output_type": "stream",
          "name": "stdout",
          "text": [
            "Downloading data from https://storage.googleapis.com/tensorflow/tf-keras-datasets/train-labels-idx1-ubyte.gz\n",
            "29515/29515 [==============================] - 0s 0us/step\n",
            "Downloading data from https://storage.googleapis.com/tensorflow/tf-keras-datasets/train-images-idx3-ubyte.gz\n",
            "26421880/26421880 [==============================] - 0s 0us/step\n",
            "Downloading data from https://storage.googleapis.com/tensorflow/tf-keras-datasets/t10k-labels-idx1-ubyte.gz\n",
            "5148/5148 [==============================] - 0s 0us/step\n",
            "Downloading data from https://storage.googleapis.com/tensorflow/tf-keras-datasets/t10k-images-idx3-ubyte.gz\n",
            "4422102/4422102 [==============================] - 0s 0us/step\n"
          ]
        }
      ]
    },
    {
      "cell_type": "code",
      "source": [
        "# Check the shape of the training data\n",
        "train_X.shape\n"
      ],
      "metadata": {
        "colab": {
          "base_uri": "https://localhost:8080/"
        },
        "id": "obXNb7xvMkE2",
        "outputId": "f441366b-149f-4573-b8ba-e12e11972e0e"
      },
      "execution_count": 4,
      "outputs": [
        {
          "output_type": "execute_result",
          "data": {
            "text/plain": [
              "(60000, 28, 28)"
            ]
          },
          "metadata": {},
          "execution_count": 4
        }
      ]
    },
    {
      "cell_type": "code",
      "source": [
        "# Visualize the first image by putting the pixel together, and it is an Ankle boot.\n",
        "plt.imshow(train_X[0], cmap=\"gray\")\n",
        "plt.show()"
      ],
      "metadata": {
        "colab": {
          "base_uri": "https://localhost:8080/",
          "height": 430
        },
        "id": "o0IAV8BFMs_B",
        "outputId": "121e11d5-8759-4f9d-801d-9a6be193fe25"
      },
      "execution_count": 5,
      "outputs": [
        {
          "output_type": "display_data",
          "data": {
            "text/plain": [
              "<Figure size 640x480 with 1 Axes>"
            ],
            "image/png": "[encoded data removed]"
          },
          "metadata": {}
        }
      ]
    },
    {
      "cell_type": "code",
      "source": [
        "# Normalize the pixel values\n",
        "train_X = train_X / 255\n",
        "test_X = test_X / 255\n",
        "\n",
        "# Reshape the first image into a column vector\n",
        "train_X[0].flatten().reshape(28*28, 1).shape\n"
      ],
      "metadata": {
        "colab": {
          "base_uri": "https://localhost:8080/"
        },
        "id": "M8VRbB08Mxwi",
        "outputId": "1d0dc5af-d4a0-43a6-f7d5-76bdf1ad34c5"
      },
      "execution_count": 6,
      "outputs": [
        {
          "output_type": "execute_result",
          "data": {
            "text/plain": [
              "(784, 1)"
            ]
          },
          "metadata": {},
          "execution_count": 6
        }
      ]
    },
    {
      "cell_type": "markdown",
      "source": [
        "Next, we flatten the X matrix by storing the flattened vectors into a list. Additionally, we convert the y labels into one-hot encoded vectors, storing these vectors in a separate list."
      ],
      "metadata": {
        "id": "Yl98vz0nNJJS"
      }
    },
    {
      "cell_type": "code",
      "source": [
        "# For training data\n",
        "X_train = []\n",
        "for x in train_X:\n",
        "    X_train.append(x.flatten().reshape(28*28, 1))\n",
        "\n",
        "# Y_train will temporarily store one-hot encoded label vectors\n",
        "Y_train = []\n",
        "for y in train_y:\n",
        "    temp_vec = np.zeros((10, 1))\n",
        "    temp_vec[y][0] = 1.0\n",
        "    Y_train.append(temp_vec)\n",
        "\n",
        "# Our training data will be stored as a list of tuples\n",
        "train_data = [p for p in zip(X_train, Y_train)]\n",
        "\n",
        "# For test data\n",
        "X_test = []\n",
        "for x in test_X:\n",
        "    X_test.append(x.flatten().reshape(784, 1))\n",
        "\n",
        "Y_test = []\n",
        "for y in test_y:\n",
        "    temp_vec = np.zeros((10, 1))\n",
        "    temp_vec[y][0] = 1.0\n",
        "    Y_test.append(temp_vec)\n",
        "\n",
        "test_data = [p for p in zip(X_test, Y_test)]\n"
      ],
      "metadata": {
        "id": "RMNJexq1NBHo"
      },
      "execution_count": 7,
      "outputs": []
    },
    {
      "cell_type": "markdown",
      "source": [
        "Now let's train MLP's using sigmoid, hyperbolic tangent, and rectified linear activation functions by mini batch gradient descent, and compare their performances."
      ],
      "metadata": {
        "id": "tnrb7RnHNc4J"
      }
    },
    {
      "cell_type": "code",
      "source": [
        "# Creating a Multilayer Perceptron network with tanh activation function\n",
        "net_tanh = MultilayerPerceptron(layers=[784, 60, 60, 10], actFun_type='tanh')\n",
        "\n",
        "# Training the network using mini-batch gradient descent\n",
        "net_tanh.mini_batch_gradient_descent(train_data, batch_size = 16, alpha = 0.01, epochs = 5)\n"
      ],
      "metadata": {
        "colab": {
          "base_uri": "https://localhost:8080/"
        },
        "id": "z2_Y-1enNY0o",
        "outputId": "794dca17-db96-49bd-ae16-bc7a99a9b975"
      },
      "execution_count": 12,
      "outputs": [
        {
          "output_type": "stream",
          "name": "stdout",
          "text": [
            "Initial Cost = 1.8734268375871235\n",
            "0 Cost = 0.17598289839244208\n",
            "1 Cost = 0.1536014458645318\n",
            "2 Cost = 0.1423807604863392\n",
            "3 Cost = 0.13510806289595845\n",
            "4 Cost = 0.12976378827567026\n"
          ]
        }
      ]
    },
    {
      "cell_type": "code",
      "source": [
        "net_tanh.MSE(test_data)"
      ],
      "metadata": {
        "colab": {
          "base_uri": "https://localhost:8080/"
        },
        "id": "nWLtUyIuNncb",
        "outputId": "0129b09b-5d84-46d8-cedf-3d34549c435a"
      },
      "execution_count": 13,
      "outputs": [
        {
          "output_type": "execute_result",
          "data": {
            "text/plain": [
              "0.137662998829111"
            ]
          },
          "metadata": {},
          "execution_count": 13
        }
      ]
    },
    {
      "cell_type": "code",
      "source": [
        "net_relu = MultilayerPerceptron(layers=[784, 100, 100, 10], actFun_type='relu')\n",
        "net_relu.mini_batch_gradient_descent(train_data, batch_size = 16, alpha = 0.01, epochs = 5)"
      ],
      "metadata": {
        "colab": {
          "base_uri": "https://localhost:8080/"
        },
        "id": "Pq4IQeumQaYr",
        "outputId": "7fca5065-9444-4985-b02c-52608b05f7f0"
      },
      "execution_count": 14,
      "outputs": [
        {
          "output_type": "stream",
          "name": "stdout",
          "text": [
            "Initial Cost = 4.0522439628036215\n",
            "0 Cost = 0.28877999328203924\n",
            "1 Cost = 0.27821595927579257\n",
            "2 Cost = 0.231931349749187\n",
            "3 Cost = 0.22622454931234542\n",
            "4 Cost = 0.21117080307810557\n"
          ]
        }
      ]
    },
    {
      "cell_type": "code",
      "source": [
        "net_relu.MSE(test_data)"
      ],
      "metadata": {
        "colab": {
          "base_uri": "https://localhost:8080/"
        },
        "id": "b7I9UDK8QduA",
        "outputId": "ebc7220d-e9ca-4c19-af51-53fca55a4865"
      },
      "execution_count": 15,
      "outputs": [
        {
          "output_type": "execute_result",
          "data": {
            "text/plain": [
              "0.2196628435012465"
            ]
          },
          "metadata": {},
          "execution_count": 15
        }
      ]
    },
    {
      "cell_type": "code",
      "source": [
        "net_sig = MultilayerPerceptron(layers=[784, 100, 100, 10], actFun_type='sigmoid')\n",
        "net_sig.mini_batch_gradient_descent(train_data, batch_size = 16, alpha = 0.01, epochs = 5)"
      ],
      "metadata": {
        "colab": {
          "base_uri": "https://localhost:8080/"
        },
        "id": "IK8fpya-Qk6o",
        "outputId": "3cc6599b-a644-4559-bf7c-4353e4c7a87f"
      },
      "execution_count": 16,
      "outputs": [
        {
          "output_type": "stream",
          "name": "stdout",
          "text": [
            "Initial Cost = 1.4965798575418863\n",
            "0 Cost = 0.43444793611203353\n",
            "1 Cost = 0.40563935490218495\n",
            "2 Cost = 0.3670997144168368\n",
            "3 Cost = 0.3310898745810555\n",
            "4 Cost = 0.3003986260688289\n"
          ]
        }
      ]
    },
    {
      "cell_type": "code",
      "source": [
        "net_sig.MSE(test_data)"
      ],
      "metadata": {
        "colab": {
          "base_uri": "https://localhost:8080/"
        },
        "id": "_kfFfi9DQmul",
        "outputId": "500c2992-d5eb-4ede-e7f4-c6d375f13e0d"
      },
      "execution_count": 17,
      "outputs": [
        {
          "output_type": "execute_result",
          "data": {
            "text/plain": [
              "0.3014454389557486"
            ]
          },
          "metadata": {},
          "execution_count": 17
        }
      ]
    },
    {
      "cell_type": "markdown",
      "source": [
        "Comparing three kinds of activation functions while keeping all other hyper-parameters unchanged, sigmoid activation function has the best perfomance on the test data.\n"
      ],
      "metadata": {
        "id": "T_m4XvX7Qopj"
      }
    },
    {
      "cell_type": "code",
      "source": [],
      "metadata": {
        "id": "3H_0KK5FQqEe"
      },
      "execution_count": null,
      "outputs": []
    }
  ]
}